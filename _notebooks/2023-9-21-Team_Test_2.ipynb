{
 "cells": [
  {
   "cell_type": "markdown",
   "metadata": {},
   "source": [
    "## Program Function and Purpose\n",
    "- To “make” a program with function and purpose, you need to “plan” a program with function and purpose"
   ]
  },
  {
   "cell_type": "markdown",
   "metadata": {},
   "source": [
    "## Program with Output\n",
    "- In coding, \"output\" refers to the data or information that a program generates or produces as a result of its execution. "
   ]
  },
  {
   "cell_type": "code",
   "execution_count": null,
   "metadata": {
    "vscode": {
     "languageId": "plaintext"
    }
   },
   "outputs": [],
   "source": [
    "### Specifically, the following line is responsible for drawing the ball on the canvas: \n",
    "ctx.beginPath();\n",
    "ctx.arc(ballX, ballY, ballSize, 0, Math.PI * 2);\n",
    "ctx.fill();\n"
   ]
  },
  {
   "cell_type": "markdown",
   "metadata": {},
   "source": [
    "## Program with Input and Output\n",
    "- A program with input and output is a computer program or software application that takes some form of data (input) as an initial state or user-provided information, processes that data using various instructions and algorithms, and then produces a result or communicates information (output)."
   ]
  },
  {
   "cell_type": "code",
   "execution_count": null,
   "metadata": {
    "vscode": {
     "languageId": "plaintext"
    }
   },
   "outputs": [],
   "source": [
    "### following lines handle user input (input) through keyboard events and update the position of the paddles (output) accordingly:\n",
    "// Handle user input\n",
    "function movePaddles() {\n",
    "  document.addEventListener(\"keydown\", function (event) {\n",
    "    switch (event.key) {\n",
    "      case \"ArrowUp\":\n",
    "        if (rightPaddleY > 0) {\n",
    "          rightPaddleY -= paddleSpeed;\n",
    "        }\n",
    "        break;\n",
    "      case \"ArrowDown\":\n",
    "        if (rightPaddleY + paddleHeight < canvas.height) {\n",
    "          rightPaddleY += paddleSpeed;\n",
    "        }\n",
    "        break;\n",
    "      case \"w\":\n",
    "        if (leftPaddleY > 0) {\n",
    "          leftPaddleY -= paddleSpeed;\n",
    "        }\n",
    "        break;\n",
    "      case \"s\":\n",
    "        if (leftPaddleY + paddleHeight < canvas.height) {\n",
    "          leftPaddleY += paddleSpeed;\n",
    "        }\n",
    "        break;\n",
    "    }\n",
    "  });\n",
    "}\n"
   ]
  },
  {
   "cell_type": "markdown",
   "metadata": {},
   "source": [
    "## Program with a List\n",
    "- A \"program with a list\" refers to a computer program or software application that makes use of lists or arrays to store, organize, and manipulate collections of data. "
   ]
  },
  {
   "cell_type": "code",
   "execution_count": null,
   "metadata": {
    "vscode": {
     "languageId": "plaintext"
    }
   },
   "outputs": [],
   "source": [
    "### Arrays used to store multiple values\n",
    "\n",
    "const paddleWidth = 10;\n",
    "const paddleHeight = 100;"
   ]
  },
  {
   "cell_type": "markdown",
   "metadata": {},
   "source": [
    "## Program with a dictionary\n",
    "- A \"program with a dictionary\" refers to a computer program or software application that utilizes dictionaries (sometimes called maps or associative arrays) as a fundamental data structure for storing, organizing, and manipulating data."
   ]
  },
  {
   "cell_type": "code",
   "execution_count": null,
   "metadata": {
    "vscode": {
     "languageId": "plaintext"
    }
   },
   "outputs": [],
   "source": [
    "### Defines an program \n",
    "\n",
    "'b' = Ball\n",
    "'p' = Paddle"
   ]
  },
  {
   "cell_type": "markdown",
   "metadata": {},
   "source": [
    "## Program Iteration\n",
    "- A \"program with iteration\" refers to a computer program or software application that uses loops or iterative constructs to repeatedly execute a block of code or perform a specific set of actions multiple times."
   ]
  },
  {
   "cell_type": "code",
   "execution_count": null,
   "metadata": {
    "vscode": {
     "languageId": "plaintext"
    }
   },
   "outputs": [],
   "source": [
    "### a list is an ordered collection indexed by position and allowing duplicates,\n",
    "\n",
    "// Game loop\n",
    "function gameLoop() {\n",
    "  movePaddles();\n",
    "  moveBall();\n",
    "  drawGame();\n",
    "  requestAnimationFrame(gameLoop);\n",
    "}\n",
    "\n",
    "// Start the game loop\n",
    "gameLoop();\n"
   ]
  },
  {
   "cell_type": "markdown",
   "metadata": {},
   "source": [
    "## Program with a Function to perform mathematical and/or a statistical calculations\n",
    "- A \"program with a function to perform mathematical and/or statistical calculations\" refers to a computer program or software application that uses functions to encapsulate and execute mathematical and statistical operations."
   ]
  },
  {
   "cell_type": "code",
   "execution_count": null,
   "metadata": {
    "vscode": {
     "languageId": "plaintext"
    }
   },
   "outputs": [],
   "source": [
    "### This function calculates the new position of the ball based on its current position and speed. \n",
    "\n",
    "// Move the ball and check for collisions\n",
    "function moveBall() {\n",
    "  ballX += ballSpeedX;\n",
    "  ballY += ballSpeedY;\n",
    "\n",
    "  // Ball collision with top and bottom walls\n",
    "  if (ballY < 0 || ballY > canvas.height) {\n",
    "    ballSpeedY = -ballSpeedY;\n",
    "  }\n",
    "\n",
    "  // Ball collision with paddles\n",
    "  if (\n",
    "    ballX <= paddleWidth &&\n",
    "    ballY >= leftPaddleY &&\n",
    "    ballY <= leftPaddleY + paddleHeight\n",
    "  ) {\n",
    "    ballSpeedX = -ballSpeedX;\n",
    "  } else if (\n",
    "    ballX >= canvas.width - paddleWidth &&\n",
    "    ballY >= rightPaddleY &&\n",
    "    ballY <= rightPaddleY + paddleHeight\n",
    "  ) {\n",
    "    ballSpeedX = -ballSpeedX;\n",
    "  }\n",
    "\n",
    "  // Ball out of bounds (score)\n",
    "  if (ballX < 0 || ballX > canvas.width) {\n",
    "    // Reset the ball's position\n",
    "    ballX = canvas.width / 2;\n",
    "    ballY = canvas.height / 2;\n",
    "    // Reset the ball's direction\n",
    "    ballSpeedX = -ballSpeedX;\n",
    "  }\n",
    "}\n"
   ]
  },
  {
   "cell_type": "markdown",
   "metadata": {},
   "source": [
    "## Program with a Selection/Condition\n",
    "- A \"program with a selection/condition\" refers to a computer program or software application that uses conditional statements (also known as selection or branching statements) to make decisions and execute different code blocks based on certain conditions."
   ]
  },
  {
   "cell_type": "code",
   "execution_count": null,
   "metadata": {
    "vscode": {
     "languageId": "plaintext"
    }
   },
   "outputs": [],
   "source": [
    "### In these lines, conditions such as if (ballY < 0 || ballY > canvas.height) are used to check if the ball has collided with the top or bottom walls of the canvas. \n",
    "\n",
    "// Ball collision with top and bottom walls\n",
    "if (ballY < 0 || ballY > canvas.height) {\n",
    "  ballSpeedY = -ballSpeedY;\n",
    "}\n",
    "\n",
    "// Ball collision with paddles\n",
    "if (\n",
    "  ballX <= paddleWidth &&\n",
    "  ballY >= leftPaddleY &&\n",
    "  ballY <= leftPaddleY + paddleHeight\n",
    ") {\n",
    "  ballSpeedX = -ballSpeedX;\n",
    "} else if (\n",
    "  ballX >= canvas.width - paddleWidth &&\n",
    "  ballY >= rightPaddleY &&\n",
    "  ballY <= rightPaddleY + paddleHeight\n",
    ") {\n",
    "  ballSpeedX = -ballSpeedX;\n",
    "}\n",
    "\n",
    "// Ball out of bounds (score)\n",
    "if (ballX < 0 || ballX > canvas.width) {\n",
    "  // Reset the ball's position\n",
    "  ballX = canvas.width / 2;\n",
    "  ballY = canvas.height / 2;\n",
    "  // Reset the ball's direction\n",
    "  ballSpeedX = -ballSpeedX;\n",
    "}\n"
   ]
  },
  {
   "cell_type": "markdown",
   "metadata": {},
   "source": [
    "## Finish with a Program with Purpose\n",
    "- A \"program with a purpose\" refers to a computer program or software application that has a clear and specific objective or goal it is designed to achieve. "
   ]
  },
  {
   "cell_type": "code",
   "execution_count": null,
   "metadata": {
    "vscode": {
     "languageId": "plaintext"
    }
   },
   "outputs": [],
   "source": [
    "---\n",
    "<style>\n",
    "/* CSS styles for the game here */\n",
    "canvas {\n",
    "background-color: black;\n",
    "display: block;\n",
    "margin: 0 auto;\n",
    "}\n",
    "</style>\n",
    "</head>\n",
    "<body>\n",
    "<canvas id=\"gameCanvas\" width=\"800\" height=\"400\"></canvas>\n",
    "<script>\n",
    "// JavaScript code for the Pong game here\n",
    "\n",
    "\n",
    "const canvas = document.getElementById(\"gameCanvas\");\n",
    "const ctx = canvas.getContext(\"2d\");\n",
    "\n",
    "\n",
    "// Define paddle and ball properties\n",
    "const paddleWidth = 10;\n",
    "const paddleHeight = 100;\n",
    "let leftPaddleY = (canvas.height - paddleHeight) / 2;\n",
    "let rightPaddleY = (canvas.height - paddleHeight) / 2;\n",
    "const paddleSpeed = 3;\n",
    "\n",
    "\n",
    "const ballSize = 10;\n",
    "let ballX = canvas.width / 2;\n",
    "let ballY = canvas.height / 2;\n",
    "let ballSpeedX = 5;\n",
    "let ballSpeedY = 5;\n",
    "\n",
    "\n",
    "// Game loop\n",
    "function gameLoop() {\n",
    "movePaddles();\n",
    "moveBall();\n",
    "drawGame();\n",
    "requestAnimationFrame(gameLoop);\n",
    "}\n",
    "\n",
    "\n",
    "// Handle user input\n",
    "function movePaddles() {\n",
    "document.addEventListener(\"keydown\", function (event) {\n",
    "switch (event.key) {\n",
    "case \"ArrowUp\":\n",
    "if (rightPaddleY > 0) {\n",
    "rightPaddleY -= paddleSpeed;\n",
    "}\n",
    "break;\n",
    "case \"ArrowDown\":\n",
    "if (rightPaddleY + paddleHeight < canvas.height) {\n",
    "rightPaddleY += paddleSpeed;\n",
    "}\n",
    "break;\n",
    "case \"w\":\n",
    "if (leftPaddleY > 0) {\n",
    "leftPaddleY -= paddleSpeed;\n",
    "}\n",
    "break;\n",
    "case \"s\":\n",
    "if (leftPaddleY + paddleHeight < canvas.height) {\n",
    "leftPaddleY += paddleSpeed;\n",
    "}\n",
    "break;\n",
    "}\n",
    "});\n",
    "}\n",
    "\n",
    "\n",
    "// Move the ball and check for collisions\n",
    "function moveBall() {\n",
    "ballX += ballSpeedX;\n",
    "ballY += ballSpeedY;\n",
    "\n",
    "\n",
    "// Ball collision with top and bottom walls\n",
    "if (ballY < 0 || ballY > canvas.height) {\n",
    "ballSpeedY = -ballSpeedY;\n",
    "}\n",
    "\n",
    "\n",
    "// Ball collision with paddles\n",
    "if (\n",
    "ballX <= paddleWidth &&\n",
    "ballY >= leftPaddleY &&\n",
    "ballY <= leftPaddleY + paddleHeight\n",
    ") {\n",
    "ballSpeedX = -ballSpeedX;\n",
    "} else if (\n",
    "ballX >= canvas.width - paddleWidth &&\n",
    "ballY >= rightPaddleY &&\n",
    "ballY <= rightPaddleY + paddleHeight\n",
    ") {\n",
    "ballSpeedX = -ballSpeedX;\n",
    "}\n",
    "\n",
    "\n",
    "// Ball out of bounds (score)\n",
    "if (ballX < 0 || ballX > canvas.width) {\n",
    "// Reset the ball's position\n",
    "ballX = canvas.width / 2;\n",
    "ballY = canvas.height / 2;\n",
    "// Reset the ball's direction\n",
    "ballSpeedX = -ballSpeedX;\n",
    "}\n",
    "}\n",
    "\n",
    "\n",
    "// Draw the game on the canvas\n",
    "function drawGame() {\n",
    "// Clear the canvas\n",
    "ctx.clearRect(0, 0, canvas.width, canvas.height);\n",
    "\n",
    "\n",
    "// Draw paddles\n",
    "ctx.fillStyle = \"white\";\n",
    "ctx.fillRect(0, leftPaddleY, paddleWidth, paddleHeight);\n",
    "ctx.fillRect(\n",
    "canvas.width - paddleWidth,\n",
    "rightPaddleY,\n",
    "paddleWidth,\n",
    "paddleHeight\n",
    ");\n",
    "\n",
    "\n",
    "// Draw ball\n",
    "ctx.beginPath();\n",
    "ctx.arc(ballX, ballY, ballSize, 0, Math.PI * 2);\n",
    "ctx.fill();\n",
    "}\n",
    "\n",
    "\n",
    "// Start the game loop\n",
    "gameLoop();\n",
    "</script>\n",
    "</body>\n",
    "</html>\n",
    "\n",
    "\n",
    "\n"
   ]
  }
 ],
 "metadata": {
  "language_info": {
   "name": "python"
  },
  "orig_nbformat": 4
 },
 "nbformat": 4,
 "nbformat_minor": 2
}
