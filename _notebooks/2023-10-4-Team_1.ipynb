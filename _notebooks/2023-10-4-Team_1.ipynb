{
 "cells": [
  {
   "cell_type": "code",
   "execution_count": null,
   "metadata": {},
   "outputs": [],
   "source": [
    "### Variable\n",
    "\n",
    "Burger = 4.26\n",
    "print(Burger)\n",
    "\n",
    "Drink = \"cola\"\n",
    "print(Drink)\n",
    "\n"
   ]
  },
  {
   "cell_type": "code",
   "execution_count": 1,
   "metadata": {},
   "outputs": [
    {
     "name": "stdout",
     "output_type": "stream",
     "text": [
      "100 is an interger\n",
      "True is an boolean\n",
      "Taj is a string\n"
     ]
    }
   ],
   "source": [
    "### Data types\n",
    "\n",
    "highscore = 100\n",
    "full = True\n",
    "firstName = \"Taj\"\n",
    "print(str(highscore) + \" is an interger\")\n",
    "print(str(full) + \" is an boolean\")\n",
    "print(firstName +\" is a string\")"
   ]
  },
  {
   "cell_type": "code",
   "execution_count": null,
   "metadata": {},
   "outputs": [],
   "source": [
    "### Changing variables\n",
    "curretScore = 100\n",
    "highScore = curretScore\n",
    "curretScore = 10\n",
    "print(str(highScore))"
   ]
  },
  {
   "cell_type": "code",
   "execution_count": 2,
   "metadata": {},
   "outputs": [
    {
     "name": "stdout",
     "output_type": "stream",
     "text": [
      "100\n",
      "100\n",
      "33\n"
     ]
    }
   ],
   "source": [
    "num1 = 33\n",
    "num2 = 66\n",
    "num3 = 100\n",
    "num2 = num3\n",
    "num3 = num1\n",
    "num1 = num2\n",
    "print(str(num1))\n",
    "print(str(num2))\n",
    "print(str(num3))"
   ]
  },
  {
   "cell_type": "code",
   "execution_count": 3,
   "metadata": {},
   "outputs": [
    {
     "name": "stdout",
     "output_type": "stream",
     "text": [
      "Taj\n",
      "Tucker\n",
      "William\n",
      "Eshaan\n"
     ]
    }
   ],
   "source": [
    "### Data abstraction\n",
    "\n",
    "groupNames = [\"Taj\",\"Tucker\",\"William\", \"Eshaan\"]\n",
    "print(groupNames[0])\n",
    "print(groupNames[1])\n",
    "print(groupNames[2])\n",
    "print(groupNames[3])"
   ]
  },
  {
   "cell_type": "code",
   "execution_count": null,
   "metadata": {},
   "outputs": [],
   "source": [
    "scores1 = [10, 20, 30, 40, 50]\n",
    "scores2 = [60, 70, 80, 90, 100]\n",
    "print"
   ]
  }
 ],
 "metadata": {
  "kernelspec": {
   "display_name": "Python 3",
   "language": "python",
   "name": "python3"
  },
  "language_info": {
   "codemirror_mode": {
    "name": "ipython",
    "version": 3
   },
   "file_extension": ".py",
   "mimetype": "text/x-python",
   "name": "python",
   "nbconvert_exporter": "python",
   "pygments_lexer": "ipython3",
   "version": "3.11.5"
  },
  "orig_nbformat": 4
 },
 "nbformat": 4,
 "nbformat_minor": 2
}
